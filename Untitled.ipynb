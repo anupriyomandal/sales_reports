{
 "cells": [
  {
   "cell_type": "code",
   "execution_count": 19,
   "id": "ab7fa0a1",
   "metadata": {},
   "outputs": [],
   "source": [
    "import csv\n",
    "import datetime"
   ]
  },
  {
   "cell_type": "code",
   "execution_count": 20,
   "id": "3bcda1f5",
   "metadata": {},
   "outputs": [],
   "source": [
    "re = {}\n",
    "with open('/home/anupriyo/Downloads/Sheet_1_(5)_crosstab.csv', 'r', encoding = 'utf-16') as f:\n",
    "    csv_reader = csv.reader(f, delimiter = '\\t')\n",
    "    cols = {col: i for i, col in enumerate(next(csv_reader))}\n",
    "    for line in csv_reader:\n",
    "        t, d, v = line[17], line[5], line[28]\n",
    "        if t not in re:\n",
    "            re[t] = [0, 0]\n",
    "        re[t][1] += int(v.replace(',',''))\n",
    "        dt = datetime.datetime.strptime(d, '%m.%d.%Y')\n",
    "        if dt == datetime.datetime.today():\n",
    "            re[t][0] += int(v.replace(',',''))"
   ]
  },
  {
   "cell_type": "code",
   "execution_count": 21,
   "id": "64031bac",
   "metadata": {},
   "outputs": [
    {
     "data": {
      "text/plain": [
       "{'Customer': 0,\n",
       " 'Club': 1,\n",
       " 'Cust': 2,\n",
       " 'Cust Name': 3,\n",
       " 'Invoice': 4,\n",
       " 'Invoice Date ': 5,\n",
       " 'MONTH': 6,\n",
       " 'Cancelled Inv': 7,\n",
       " 'Billing Type': 8,\n",
       " 'Cust Grp': 9,\n",
       " 'Cust Grp1': 10,\n",
       " 'Material ': 11,\n",
       " 'Material': 12,\n",
       " 'Mat Desc': 13,\n",
       " 'Category ': 14,\n",
       " 'Category': 15,\n",
       " 'Category Desc': 16,\n",
       " 'Territory ': 17,\n",
       " 'Territory': 18,\n",
       " 'Territory Desc': 19,\n",
       " 'Region ': 20,\n",
       " 'Region': 21,\n",
       " 'Region Desc': 22,\n",
       " 'Zone ': 23,\n",
       " 'Zone': 24,\n",
       " 'Zone Desc': 25,\n",
       " 'Plant': 26,\n",
       " 'QTY': 27,\n",
       " 'Value': 28,\n",
       " 'PRE': 29}"
      ]
     },
     "execution_count": 21,
     "metadata": {},
     "output_type": "execute_result"
    }
   ],
   "source": [
    "cols"
   ]
  },
  {
   "cell_type": "code",
   "execution_count": 22,
   "id": "10ea70c0",
   "metadata": {},
   "outputs": [
    {
     "data": {
      "text/plain": [
       "{'INT080(Aurangabad)': [0, 8062611],\n",
       " 'INS009(Ahmednagar)': [0, 5185868],\n",
       " 'INT079(Nashik)': [0, 8060399],\n",
       " 'INS008(Jalgaon)': [0, 11281837],\n",
       " 'IND049(Aurangabad D)': [0, 17192537],\n",
       " 'IND066(Nasik D)': [0, 15256587]}"
      ]
     },
     "execution_count": 22,
     "metadata": {},
     "output_type": "execute_result"
    }
   ],
   "source": [
    "re"
   ]
  },
  {
   "cell_type": "code",
   "execution_count": null,
   "id": "df316583",
   "metadata": {},
   "outputs": [],
   "source": []
  }
 ],
 "metadata": {
  "kernelspec": {
   "display_name": "Python 3",
   "language": "python",
   "name": "python3"
  },
  "language_info": {
   "codemirror_mode": {
    "name": "ipython",
    "version": 3
   },
   "file_extension": ".py",
   "mimetype": "text/x-python",
   "name": "python",
   "nbconvert_exporter": "python",
   "pygments_lexer": "ipython3",
   "version": "3.7.3"
  }
 },
 "nbformat": 4,
 "nbformat_minor": 5
}
