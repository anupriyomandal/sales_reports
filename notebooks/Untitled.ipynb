{
 "cells": [
  {
   "cell_type": "code",
   "execution_count": 1,
   "id": "7deb8ed9",
   "metadata": {},
   "outputs": [],
   "source": [
    "import csv\n",
    "import datetime"
   ]
  },
  {
   "cell_type": "code",
   "execution_count": 8,
   "id": "bb653dc2",
   "metadata": {},
   "outputs": [],
   "source": [
    "with open('/home/anupriyo/Documents/Programming/Dumps/fy21.csv', 'r', encoding = 'utf-16') as f:\n",
    "    csv_reader = csv.reader(f, delimiter ='\\t')\n",
    "    re = {}\n",
    "    next(csv_reader)\n",
    "    months = [datetime.datetime(2020, i, 1) for i in range(4,13)] + [datetime.datetime(2021, i, 1) for i in range(1,4)]\n",
    "    for line in csv_reader:\n",
    "        dl = line[2]\n",
    "        mt = datetime.datetime.strptime(line[6], \"%b'%y\")\n",
    "        val = int(line[28].replace(',', ''))\n",
    "        if dl not in re:\n",
    "            re[dl] = [0]*12\n",
    "        re[dl][months.index(mt)] += val"
   ]
  },
  {
   "cell_type": "code",
   "execution_count": 3,
   "id": "b5d1d4b6",
   "metadata": {},
   "outputs": [
    {
     "data": {
      "text/plain": [
       "{'Customer': 0,\n",
       " 'Club': 1,\n",
       " 'Cust': 2,\n",
       " 'Cust Name': 3,\n",
       " 'Invoice': 4,\n",
       " 'Invoice Date ': 5,\n",
       " 'MONTH': 6,\n",
       " 'Cancelled Inv': 7,\n",
       " 'Billing Type': 8,\n",
       " 'Cust Grp': 9,\n",
       " 'Cust Grp1': 10,\n",
       " 'Material ': 11,\n",
       " 'Material': 12,\n",
       " 'Mat Desc': 13,\n",
       " 'Category ': 14,\n",
       " 'Category': 15,\n",
       " 'Category Desc': 16,\n",
       " 'Territory ': 17,\n",
       " 'Territory': 18,\n",
       " 'Territory Desc': 19,\n",
       " 'Region ': 20,\n",
       " 'Region': 21,\n",
       " 'Region Desc': 22,\n",
       " 'Zone ': 23,\n",
       " 'Zone': 24,\n",
       " 'Zone Desc': 25,\n",
       " 'Plant': 26,\n",
       " 'QTY': 27,\n",
       " 'Value': 28,\n",
       " 'PRE': 29}"
      ]
     },
     "execution_count": 3,
     "metadata": {},
     "output_type": "execute_result"
    }
   ],
   "source": [
    "cols"
   ]
  },
  {
   "cell_type": "code",
   "execution_count": 10,
   "id": "5e5e0ba9",
   "metadata": {},
   "outputs": [
    {
     "ename": "ModuleNotFoundError",
     "evalue": "No module named 'colorama'",
     "output_type": "error",
     "traceback": [
      "\u001b[0;31m---------------------------------------------------------------------------\u001b[0m",
      "\u001b[0;31mModuleNotFoundError\u001b[0m                       Traceback (most recent call last)",
      "\u001b[0;32m<ipython-input-10-88ec09736251>\u001b[0m in \u001b[0;36m<module>\u001b[0;34m\u001b[0m\n\u001b[0;32m----> 1\u001b[0;31m \u001b[0;32mimport\u001b[0m \u001b[0mcolorama\u001b[0m\u001b[0;34m\u001b[0m\u001b[0;34m\u001b[0m\u001b[0m\n\u001b[0m",
      "\u001b[0;31mModuleNotFoundError\u001b[0m: No module named 'colorama'"
     ]
    }
   ],
   "source": [
    "import colorama"
   ]
  },
  {
   "cell_type": "code",
   "execution_count": 12,
   "id": "daf0e71b",
   "metadata": {},
   "outputs": [
    {
     "data": {
      "text/plain": [
       "datetime.datetime(2020, 3, 30, 0, 0)"
      ]
     },
     "execution_count": 12,
     "metadata": {},
     "output_type": "execute_result"
    }
   ],
   "source": [
    "datetime.datetime(2020, 4, 1) - datetime.timedelta(.d2)"
   ]
  },
  {
   "cell_type": "code",
   "execution_count": 15,
   "id": "84f7a127",
   "metadata": {},
   "outputs": [
    {
     "ename": "TypeError",
     "evalue": "'month' is an invalid keyword argument for __new__()",
     "output_type": "error",
     "traceback": [
      "\u001b[0;31m---------------------------------------------------------------------------\u001b[0m",
      "\u001b[0;31mTypeError\u001b[0m                                 Traceback (most recent call last)",
      "\u001b[0;32m<ipython-input-15-90adf9770031>\u001b[0m in \u001b[0;36m<module>\u001b[0;34m\u001b[0m\n\u001b[0;32m----> 1\u001b[0;31m \u001b[0mdatetime\u001b[0m\u001b[0;34m.\u001b[0m\u001b[0mdatetime\u001b[0m\u001b[0;34m(\u001b[0m\u001b[0;36m2020\u001b[0m\u001b[0;34m,\u001b[0m \u001b[0;36m4\u001b[0m\u001b[0;34m,\u001b[0m \u001b[0;36m1\u001b[0m\u001b[0;34m)\u001b[0m \u001b[0;34m+\u001b[0m \u001b[0mdatetime\u001b[0m\u001b[0;34m.\u001b[0m\u001b[0mtimedelta\u001b[0m\u001b[0;34m(\u001b[0m\u001b[0mmonth\u001b[0m \u001b[0;34m=\u001b[0m \u001b[0;36m2\u001b[0m\u001b[0;34m)\u001b[0m\u001b[0;34m\u001b[0m\u001b[0;34m\u001b[0m\u001b[0m\n\u001b[0m",
      "\u001b[0;31mTypeError\u001b[0m: 'month' is an invalid keyword argument for __new__()"
     ]
    }
   ],
   "source": [
    "datetime.datetime(2020, 4, 1) + datetime.timedelta(month = 2)"
   ]
  },
  {
   "cell_type": "code",
   "execution_count": 16,
   "id": "08a1a96d",
   "metadata": {},
   "outputs": [],
   "source": [
    "from datetime import datetime\n",
    "from datetime import timedelta\n",
    "from dateutil.relativedelta import relativedelta"
   ]
  },
  {
   "cell_type": "code",
   "execution_count": 19,
   "id": "21d6259d",
   "metadata": {},
   "outputs": [
    {
     "data": {
      "text/plain": [
       "datetime.datetime(2020, 4, 29, 0, 0)"
      ]
     },
     "execution_count": 19,
     "metadata": {},
     "output_type": "execute_result"
    }
   ],
   "source": [
    "datetime(2020, 4, 1) + relativedelta(months = 1) - timedelta(2)"
   ]
  },
  {
   "cell_type": "code",
   "execution_count": 26,
   "id": "3a345e67",
   "metadata": {},
   "outputs": [],
   "source": [
    "x = datetime(2020, 1, 30) + timedelta(days = 2)\n",
    "y = datetime(x.year, x.month, 1)"
   ]
  },
  {
   "cell_type": "code",
   "execution_count": 25,
   "id": "21c9c41b",
   "metadata": {},
   "outputs": [
    {
     "data": {
      "text/plain": [
       "datetime.datetime(2020, 1, 1, 0, 0)"
      ]
     },
     "execution_count": 25,
     "metadata": {},
     "output_type": "execute_result"
    }
   ],
   "source": [
    "y"
   ]
  },
  {
   "cell_type": "code",
   "execution_count": null,
   "id": "34988c63",
   "metadata": {},
   "outputs": [],
   "source": []
  }
 ],
 "metadata": {
  "kernelspec": {
   "display_name": "Python 3",
   "language": "python",
   "name": "python3"
  },
  "language_info": {
   "codemirror_mode": {
    "name": "ipython",
    "version": 3
   },
   "file_extension": ".py",
   "mimetype": "text/x-python",
   "name": "python",
   "nbconvert_exporter": "python",
   "pygments_lexer": "ipython3",
   "version": "3.7.3"
  }
 },
 "nbformat": 4,
 "nbformat_minor": 5
}
