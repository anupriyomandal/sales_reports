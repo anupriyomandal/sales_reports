{
 "cells": [
  {
   "cell_type": "code",
   "execution_count": 1,
   "id": "ad4e79e5",
   "metadata": {},
   "outputs": [],
   "source": [
    "import datetime"
   ]
  },
  {
   "cell_type": "code",
   "execution_count": 8,
   "id": "c0844aec",
   "metadata": {},
   "outputs": [
    {
     "name": "stdout",
     "output_type": "stream",
     "text": [
      "['Customer', 'Club', 'Cust', 'Cust Name', 'Invoice', 'Invoice Date ', 'MONTH', 'Cancelled Inv', 'Billing Type', 'Cust Grp', 'Cust Grp1', 'Material ', 'Material', 'Mat Desc', 'Category ', 'Category', 'Category Desc', 'Territory ', 'Territory', 'Territory Desc', 'Region ', 'Region', 'Region Desc', 'Zone ', 'Zone', 'Zone Desc', 'Plant', 'QTY', 'Value', 'PRE\\n']\n"
     ]
    }
   ],
   "source": [
    "with open('/home/anupriyo/Documents/Programming/Dumps/fy21.csv', 'r', encoding = 'utf-16') as f:\n",
    "    print(next(f).split('\\t'))"
   ]
  },
  {
   "cell_type": "code",
   "execution_count": null,
   "id": "bdbe134a",
   "metadata": {},
   "outputs": [],
   "source": []
  }
 ],
 "metadata": {
  "kernelspec": {
   "display_name": "Python 3",
   "language": "python",
   "name": "python3"
  },
  "language_info": {
   "codemirror_mode": {
    "name": "ipython",
    "version": 3
   },
   "file_extension": ".py",
   "mimetype": "text/x-python",
   "name": "python",
   "nbconvert_exporter": "python",
   "pygments_lexer": "ipython3",
   "version": "3.7.3"
  }
 },
 "nbformat": 4,
 "nbformat_minor": 5
}
